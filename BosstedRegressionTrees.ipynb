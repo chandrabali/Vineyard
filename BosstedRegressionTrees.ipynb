{
 "cells": [
  {
   "cell_type": "code",
   "execution_count": 1,
   "metadata": {},
   "outputs": [],
   "source": []
  },
  {
   "cell_type": "code",
   "execution_count": 3,
   "metadata": {},
   "outputs": [
    {
     "name": "stdout",
     "output_type": "stream",
     "text": [
      "      OBJECTID   S2_NDVI   VALUE  COUNT        AREA  MIN_drone  MAX_drone  \\\n",
      "0            1  0.564864  564864   2477   54.395604   0.430298   0.927538   \n",
      "1            2  0.640211  640211   2773   60.895846   0.531558   0.935376   \n",
      "2            3  0.645990  645990   3103   68.142737   0.203673   0.938252   \n",
      "3            4  0.648998  648998   3487   76.575483   0.611573   0.958789   \n",
      "4            5  0.600625  600625   3768   82.746320   0.288474   0.933030   \n",
      "...        ...       ...     ...    ...         ...        ...        ...   \n",
      "3936      3937  0.131985  131985   4556  100.051018   0.094310   0.526329   \n",
      "3937      3938  0.154743  154743   4624  101.544317   0.105027   0.538654   \n",
      "3938      3939  0.158506  158506   4311   94.670750   0.122084   0.281722   \n",
      "3939      3940  0.168395  168395   3041   66.781200   0.104063   0.310620   \n",
      "3940      3941  0.156135  156135   2424   53.231709   0.091932   0.531313   \n",
      "\n",
      "         RANGE  MEAN_drone       STD          SUM  \n",
      "0     0.497241    0.821908  0.061173  2035.867193  \n",
      "1     0.403818    0.822064  0.052559  2279.584072  \n",
      "2     0.734580    0.787448  0.068254  2443.450361  \n",
      "3     0.347216    0.841568  0.032698  2934.549157  \n",
      "4     0.644556    0.769555  0.095907  2899.681764  \n",
      "...        ...         ...       ...          ...  \n",
      "3936  0.432019    0.197114  0.068501   898.049525  \n",
      "3937  0.433627    0.211451  0.058674   977.747678  \n",
      "3938  0.159637    0.190323  0.018159   820.481604  \n",
      "3939  0.206556    0.190778  0.021084   580.156741  \n",
      "3940  0.439381    0.238341  0.084665   577.737618  \n",
      "\n",
      "[3941 rows x 11 columns]\n",
      "(3941, 1) (3941,)\n"
     ]
    }
   ],
   "source": [
    "import pandas as pd\n",
    "import numpy as np\n",
    "\n",
    "df=pd.read_excel('C:\\\\articles\\\\to_upload\\\\Vizcarra\\\\ZonalSt_Int_unmasked_TableToExcel.xls')\n",
    "#C:\\articles\\to_upload\\Vizcarra\n",
    "print(df)\n",
    "\n",
    "\n",
    "X_raw = (df[\"S2_NDVI\"].to_numpy())\n",
    "#print(X_raw.shape)\n",
    "X=np.reshape(X_raw,(X_raw.shape[0], 1))\n",
    "y=(df[\"MEAN_drone\"].to_numpy()).ravel()\n",
    "\n",
    "#y=np.atleast_2d(y)\n",
    "\n",
    "print(X.shape,y.shape)\n",
    "\n",
    "#X_train= X[500:1500]\n",
    "#Y_train= y[500:1500]\n",
    "\n",
    "#X_test=X[1500:2000]\n",
    "#Y_test=y[1500:2000]\n",
    "#print(X_train.shape, Y_train.shape, X_test.shape,Y_test.shape)\n",
    "\n",
    "\n"
   ]
  },
  {
   "cell_type": "code",
   "execution_count": 9,
   "metadata": {},
   "outputs": [],
   "source": [
    "# Install scikit-learn using conda or pip if you don't already have it installed\n",
    "from sklearn.datasets import make_regression\n",
    "from sklearn.ensemble import GradientBoostingRegressor\n",
    "from sklearn.model_selection import train_test_split\n",
    "\n",
    "# Generate some synthetic data\n",
    "#X, y = make_regression()\n",
    "\n",
    "# Split the synthetic data into train and test arrays\n",
    "X_train, X_test, Y_train, Y_test = train_test_split(X, y)\n",
    "\n",
    "# The number of trees is set by n_estimators; there are many other options that\n",
    "# you should experiment with. Typically the defaults will be sensible but are\n",
    "# unlikely to be perfect for your use case. Let's create the empty model:\n",
    "r_squaredvalues=[]\n",
    "\n",
    "for n_estimators in (100,200,300,400,500):\n",
    "    \n",
    "    reg = GradientBoostingRegressor(n_estimators=n_estimators,\n",
    "                                max_depth=3,\n",
    "                                learning_rate=0.1,\n",
    "                                min_samples_split=3)\n",
    "    # Fit the model\n",
    "    reg.fit(X_train, Y_train)\n",
    "\n",
    "    # Predict the value of the first test case\n",
    "    #reg.predict(X_test[:1])\n",
    "\n",
    "    # R^2 score for the model (on the test data)\n",
    "    r_squaredvalues.append((n_estimators, reg.score(X_test, Y_test)))"
   ]
  },
  {
   "cell_type": "code",
   "execution_count": 10,
   "metadata": {},
   "outputs": [
    {
     "data": {
      "text/plain": [
       "[(100, 0.7395229189306506),\n",
       " (200, 0.7349403781822135),\n",
       " (300, 0.7251354030082064),\n",
       " (400, 0.7197718432251008),\n",
       " (500, 0.7151571890734552)]"
      ]
     },
     "execution_count": 10,
     "metadata": {},
     "output_type": "execute_result"
    }
   ],
   "source": [
    "r_squaredvalues"
   ]
  },
  {
   "cell_type": "code",
   "execution_count": 5,
   "metadata": {},
   "outputs": [],
   "source": [
    "Y_test= reg.predict(X_test)"
   ]
  },
  {
   "cell_type": "code",
   "execution_count": 5,
   "metadata": {},
   "outputs": [
    {
     "data": {
      "text/plain": [
       "(986, 1)"
      ]
     },
     "execution_count": 5,
     "metadata": {},
     "output_type": "execute_result"
    }
   ],
   "source": [
    "X_test.shape"
   ]
  },
  {
   "cell_type": "code",
   "execution_count": 6,
   "metadata": {},
   "outputs": [
    {
     "data": {
      "text/plain": [
       "1.0"
      ]
     },
     "execution_count": 6,
     "metadata": {},
     "output_type": "execute_result"
    }
   ],
   "source": [
    "reg.score(X_test, Y_test)"
   ]
  },
  {
   "cell_type": "code",
   "execution_count": 7,
   "metadata": {},
   "outputs": [],
   "source": [
    "import joblib\n",
    "\n",
    "# save\n",
    "joblib.dump(reg, \"boostedRegressionNDVI.jl\") \n",
    "\n",
    "# load\n",
    "reg = joblib.load(\"boostedRegressionNDVI.jl\")\n",
    "\n",
    "#clf2.predict(X[0:1])"
   ]
  },
  {
   "cell_type": "code",
   "execution_count": 40,
   "metadata": {},
   "outputs": [
    {
     "data": {
      "text/plain": [
       "array([0.70621557])"
      ]
     },
     "execution_count": 40,
     "metadata": {},
     "output_type": "execute_result"
    }
   ],
   "source": [
    "reg.predict((np.array(0.5)).reshape(1,-1))"
   ]
  },
  {
   "cell_type": "code",
   "execution_count": 9,
   "metadata": {},
   "outputs": [],
   "source": [
    "from numpy import genfromtxt\n",
    "my_data = genfromtxt('C:\\\\Users\\\\karm_ch\\\\Downloads\\\\s2_ndvi_all_sampling_zones.csv', delimiter=';')"
   ]
  },
  {
   "cell_type": "code",
   "execution_count": 10,
   "metadata": {},
   "outputs": [
    {
     "data": {
      "text/plain": [
       "array([nan, nan, nan, nan, nan, nan])"
      ]
     },
     "execution_count": 10,
     "metadata": {},
     "output_type": "execute_result"
    }
   ],
   "source": [
    "my_data[0]"
   ]
  },
  {
   "cell_type": "code",
   "execution_count": 11,
   "metadata": {},
   "outputs": [
    {
     "data": {
      "text/plain": [
       "array([           nan, 4.29765000e+05, 2.10575655e-01,            nan,\n",
       "                  nan,            nan])"
      ]
     },
     "execution_count": 11,
     "metadata": {},
     "output_type": "execute_result"
    }
   ],
   "source": [
    "my_data[1]"
   ]
  },
  {
   "cell_type": "code",
   "execution_count": 17,
   "metadata": {},
   "outputs": [
    {
     "name": "stdout",
     "output_type": "stream",
     "text": [
      "{'lattitude': '4619035.000000000000000', 'logitude': '429764.999999999941792', 'uncorrected_ndvi': '0.210575655102730', 'id': 'PR034', 'CLEARING': 'YES', 'parcel_id': 'PR03'}\n",
      "{'lattitude': '4618875.000000000000000', 'logitude': '429804.999999999941792', 'uncorrected_ndvi': '0.178003951907158', 'id': 'PR035', 'CLEARING': 'YES', 'parcel_id': 'PR03'}\n",
      "{'lattitude': '4618845.000000000000000', 'logitude': '429824.999999999941792', 'uncorrected_ndvi': '0.262857139110565', 'id': 'PR036', 'CLEARING': 'YES', 'parcel_id': 'PR03'}\n",
      "{'lattitude': '4618705.000000000000000', 'logitude': '429824.999999999941792', 'uncorrected_ndvi': '0.191737055778503', 'id': 'PR031', 'CLEARING': 'NO', 'parcel_id': 'PR03'}\n",
      "{'lattitude': '4618675.000000000000000', 'logitude': '429835.000000000058208', 'uncorrected_ndvi': '0.218301698565483', 'id': 'PR032', 'CLEARING': 'NO', 'parcel_id': 'PR03'}\n",
      "{'lattitude': '4618645.000000000000000', 'logitude': '429844.999999999941792', 'uncorrected_ndvi': '0.257296472787857', 'id': 'PR033', 'CLEARING': 'NO', 'parcel_id': 'PR03'}\n",
      "{'lattitude': '4616595.000000000000000', 'logitude': '430875.000000000058208', 'uncorrected_ndvi': '0.329222649335861', 'id': 'PR013', 'CLEARING': 'NO', 'parcel_id': 'PR01'}\n",
      "{'lattitude': '4616585.000000000000000', 'logitude': '430915.000000000058208', 'uncorrected_ndvi': '0.204852804541588', 'id': 'PR012', 'CLEARING': 'NO', 'parcel_id': 'PR01'}\n",
      "{'lattitude': '4616585.000000000000000', 'logitude': '430935.000000000058208', 'uncorrected_ndvi': '0.187477722764015', 'id': 'PR011', 'CLEARING': 'NO', 'parcel_id': 'PR01'}\n",
      "{'lattitude': '4616565.000000000000000', 'logitude': '430864.999999999941792', 'uncorrected_ndvi': '0.337152928113937', 'id': 'PR014', 'CLEARING': 'YES', 'parcel_id': 'PR01'}\n",
      "{'lattitude': '4616485.000000000000000', 'logitude': '430875.000000000058208', 'uncorrected_ndvi': '0.270718216896057', 'id': 'PR016', 'CLEARING': 'YES', 'parcel_id': 'PR01'}\n",
      "{'lattitude': '4616475.000000000000000', 'logitude': '430895.000000000058208', 'uncorrected_ndvi': '0.226500570774078', 'id': 'PR015', 'CLEARING': 'YES', 'parcel_id': 'PR01'}\n",
      "{'lattitude': '4615855.000000000000000', 'logitude': '423424.999999999941792', 'uncorrected_ndvi': '0.219710409641266', 'id': 'VZ031', 'CLEARING': 'NO', 'parcel_id': 'VZ03'}\n",
      "{'lattitude': '4615845.000000000000000', 'logitude': '423375.000000000058208', 'uncorrected_ndvi': '0.251028776168823', 'id': 'VZ032', 'CLEARING': 'NO', 'parcel_id': 'VZ03'}\n",
      "{'lattitude': '4615835.000000000000000', 'logitude': '423415.000000000058208', 'uncorrected_ndvi': '0.321299672126770', 'id': 'VZ036', 'CLEARING': 'YES', 'parcel_id': 'VZ03'}\n",
      "{'lattitude': '4615825.000000000000000', 'logitude': '423355.000000000058208', 'uncorrected_ndvi': '0.257489889860153', 'id': 'VZ034', 'CLEARING': 'YES', 'parcel_id': 'VZ03'}\n",
      "{'lattitude': '4615825.000000000000000', 'logitude': '423375.000000000058208', 'uncorrected_ndvi': '0.392753928899765', 'id': 'VZ035', 'CLEARING': 'YES', 'parcel_id': 'VZ03'}\n",
      "{'lattitude': '4615595.000000000000000', 'logitude': '434515.000000000058208', 'uncorrected_ndvi': '0.191086843609810', 'id': 'PR024', 'CLEARING': 'YES', 'parcel_id': 'PR02'}\n",
      "{'lattitude': '4615565.000000000000000', 'logitude': '434484.999999999941792', 'uncorrected_ndvi': '0.200092434883118', 'id': 'PR022', 'CLEARING': 'NO', 'parcel_id': 'PR02'}\n",
      "{'lattitude': '4615545.000000000000000', 'logitude': '434484.999999999941792', 'uncorrected_ndvi': '0.231677323579788', 'id': 'PR021', 'CLEARING': 'NO', 'parcel_id': 'PR02'}\n",
      "{'lattitude': '4615545.000000000000000', 'logitude': '434495.000000000058208', 'uncorrected_ndvi': '0.234561517834663', 'id': 'PR025', 'CLEARING': 'YES', 'parcel_id': 'PR02'}\n",
      "{'lattitude': '4615525.000000000000000', 'logitude': '434475.000000000058208', 'uncorrected_ndvi': '0.227883398532867', 'id': 'PR023', 'CLEARING': 'NO', 'parcel_id': 'PR02'}\n",
      "{'lattitude': '4615525.000000000000000', 'logitude': '434524.999999999941792', 'uncorrected_ndvi': '0.301615267992020', 'id': 'PR026', 'CLEARING': 'YES', 'parcel_id': 'PR02'}\n",
      "{'lattitude': '4614425.000000000000000', 'logitude': '420595.000000000058208', 'uncorrected_ndvi': '0.202247172594070', 'id': 'VZ011', 'CLEARING': 'NO', 'parcel_id': 'VZ01'}\n",
      "{'lattitude': '4614405.000000000000000', 'logitude': '420624.999999999941792', 'uncorrected_ndvi': '0.247785761952400', 'id': 'VZ012', 'CLEARING': 'NO', 'parcel_id': 'VZ01'}\n",
      "{'lattitude': '4614385.000000000000000', 'logitude': '420624.999999999941792', 'uncorrected_ndvi': '0.246736571192741', 'id': 'VZ015', 'CLEARING': 'YES', 'parcel_id': 'VZ01'}\n",
      "{'lattitude': '4614375.000000000000000', 'logitude': '420664.999999999941792', 'uncorrected_ndvi': '0.281839847564697', 'id': 'VZ013', 'CLEARING': 'NO', 'parcel_id': 'VZ01'}\n",
      "{'lattitude': '4614365.000000000000000', 'logitude': '420655.000000000058208', 'uncorrected_ndvi': '0.273427963256836', 'id': 'VZ016', 'CLEARING': 'YES', 'parcel_id': 'VZ01'}\n",
      "{'lattitude': '4614305.000000000000000', 'logitude': '417835.000000000058208', 'uncorrected_ndvi': '0.148936182260513', 'id': 'VZ025', 'CLEARING': 'YES', 'parcel_id': 'VZ02'}\n",
      "{'lattitude': '4614305.000000000000000', 'logitude': '420664.999999999941792', 'uncorrected_ndvi': '0.234128981828690', 'id': 'VZ014', 'CLEARING': 'YES', 'parcel_id': 'VZ01'}\n",
      "{'lattitude': '4614295.000000000000000', 'logitude': '417795.000000000058208', 'uncorrected_ndvi': '0.176327005028725', 'id': 'VZ021', 'CLEARING': 'NO', 'parcel_id': 'VZ02'}\n",
      "{'lattitude': '4614285.000000000000000', 'logitude': '417795.000000000058208', 'uncorrected_ndvi': '0.218796849250793', 'id': 'VZ023', 'CLEARING': 'NO', 'parcel_id': 'VZ02'}\n",
      "{'lattitude': '4614275.000000000000000', 'logitude': '417784.999999999941792', 'uncorrected_ndvi': '0.262424021959305', 'id': 'VZ022', 'CLEARING': 'NO', 'parcel_id': 'VZ02'}\n",
      "{'lattitude': '4614265.000000000000000', 'logitude': '417804.999999999941792', 'uncorrected_ndvi': '0.275326073169708', 'id': 'VZ024', 'CLEARING': 'YES', 'parcel_id': 'VZ02'}\n",
      "{'lattitude': '4614265.000000000000000', 'logitude': '417844.999999999941792', 'uncorrected_ndvi': '0.235081061720848', 'id': 'VZ026', 'CLEARING': 'YES', 'parcel_id': 'VZ02'}\n",
      "{'lattitude': '4612165.000000000000000', 'logitude': '443804.999999999941792', 'uncorrected_ndvi': '0.216531068086624', 'id': 'MB021', 'CLEARING': 'NO', 'parcel_id': 'MB02'}\n",
      "{'lattitude': '4612135.000000000000000', 'logitude': '443815.000000000058208', 'uncorrected_ndvi': '0.235709056258202', 'id': 'MB022', 'CLEARING': 'NO', 'parcel_id': 'MB02'}\n",
      "{'lattitude': '4612095.000000000000000', 'logitude': '443824.999999999941792', 'uncorrected_ndvi': '0.219702497124672', 'id': 'MB023', 'CLEARING': 'NO', 'parcel_id': 'MB02'}\n",
      "{'lattitude': '4612055.000000000000000', 'logitude': '443675.000000000058208', 'uncorrected_ndvi': '0.241224125027657', 'id': 'MB026', 'CLEARING': 'YES', 'parcel_id': 'MB02'}\n",
      "{'lattitude': '4612015.000000000000000', 'logitude': '443684.999999999941792', 'uncorrected_ndvi': '0.315096288919449', 'id': 'MB025', 'CLEARING': 'YES', 'parcel_id': 'MB02'}\n",
      "{'lattitude': '4612005.000000000000000', 'logitude': '443764.999999999941792', 'uncorrected_ndvi': '0.197500020265579', 'id': 'MB024', 'CLEARING': 'YES', 'parcel_id': 'MB02'}\n",
      "{'lattitude': '4611955.000000000000000', 'logitude': '444504.999999999941792', 'uncorrected_ndvi': '0.316152811050415', 'id': 'MB031', 'CLEARING': 'NO', 'parcel_id': 'MB03'}\n",
      "{'lattitude': '4611915.000000000000000', 'logitude': '444515.000000000058208', 'uncorrected_ndvi': '0.234323441982269', 'id': 'MB032', 'CLEARING': 'NO', 'parcel_id': 'MB03'}\n",
      "{'lattitude': '4611885.000000000000000', 'logitude': '444415.000000000058208', 'uncorrected_ndvi': '0.256778985261917', 'id': 'MB036', 'CLEARING': 'YES', 'parcel_id': 'MB03'}\n",
      "{'lattitude': '4611875.000000000000000', 'logitude': '444495.000000000058208', 'uncorrected_ndvi': '0.263565868139267', 'id': 'MB034', 'CLEARING': 'YES', 'parcel_id': 'MB03'}\n",
      "{'lattitude': '4611875.000000000000000', 'logitude': '444524.999999999941792', 'uncorrected_ndvi': '0.277007699012756', 'id': 'MB033', 'CLEARING': 'NO', 'parcel_id': 'MB03'}\n",
      "{'lattitude': '4611845.000000000000000', 'logitude': '444435.000000000058208', 'uncorrected_ndvi': '0.320457816123962', 'id': 'MB035', 'CLEARING': 'YES', 'parcel_id': 'MB03'}\n",
      "{'lattitude': '4611355.000000000000000', 'logitude': '444795.000000000058208', 'uncorrected_ndvi': '0.346086084842682', 'id': 'MB013', 'CLEARING': 'NO', 'parcel_id': 'MB01'}\n",
      "{'lattitude': '4611355.000000000000000', 'logitude': '444815.000000000058208', 'uncorrected_ndvi': '0.306182563304901', 'id': 'MB012', 'CLEARING': 'NO', 'parcel_id': 'MB01'}\n",
      "{'lattitude': '4611345.000000000000000', 'logitude': '444795.000000000058208', 'uncorrected_ndvi': '0.360162019729614', 'id': 'MB014', 'CLEARING': 'YES', 'parcel_id': 'MB01'}\n",
      "{'lattitude': '4611305.000000000000000', 'logitude': '444755.000000000058208', 'uncorrected_ndvi': '0.312815576791763', 'id': 'MB016', 'CLEARING': 'YES', 'parcel_id': 'MB01'}\n"
     ]
    }
   ],
   "source": [
    "import csv\n",
    "ndvi=[]\n",
    "with open('C:\\\\Users\\\\karm_ch\\\\Downloads\\\\s2_ndvi_all_sampling_zones.csv', newline='') as pscfile:\n",
    "    reader = csv.DictReader(pscfile)\n",
    "    for row in reader:\n",
    "        print(row)\n",
    "        ndvi.append(row)\n",
    "    "
   ]
  },
  {
   "cell_type": "code",
   "execution_count": 29,
   "metadata": {},
   "outputs": [
    {
     "data": {
      "text/plain": [
       "6"
      ]
     },
     "execution_count": 29,
     "metadata": {},
     "output_type": "execute_result"
    }
   ],
   "source": [
    "len(ndvi[0])"
   ]
  },
  {
   "cell_type": "code",
   "execution_count": 42,
   "metadata": {},
   "outputs": [
    {
     "name": "stdout",
     "output_type": "stream",
     "text": [
      "PR034\n",
      "PR034\n",
      "PR034\n",
      "PR034\n",
      "PR034\n",
      "PR034\n",
      "PR035\n",
      "PR035\n",
      "PR035\n",
      "PR035\n",
      "PR035\n",
      "PR035\n",
      "PR036\n",
      "PR036\n",
      "PR036\n",
      "PR036\n",
      "PR036\n",
      "PR036\n",
      "PR031\n",
      "PR031\n",
      "PR031\n",
      "PR031\n",
      "PR031\n",
      "PR031\n",
      "PR032\n",
      "PR032\n",
      "PR032\n",
      "PR032\n",
      "PR032\n",
      "PR032\n",
      "PR033\n",
      "PR033\n",
      "PR033\n",
      "PR033\n",
      "PR033\n",
      "PR033\n",
      "PR013\n",
      "PR013\n",
      "PR013\n",
      "PR013\n",
      "PR013\n",
      "PR013\n",
      "PR012\n",
      "PR012\n",
      "PR012\n",
      "PR012\n",
      "PR012\n",
      "PR012\n",
      "PR011\n",
      "PR011\n",
      "PR011\n",
      "PR011\n",
      "PR011\n",
      "PR011\n",
      "PR014\n",
      "PR014\n",
      "PR014\n",
      "PR014\n",
      "PR014\n",
      "PR014\n",
      "PR016\n",
      "PR016\n",
      "PR016\n",
      "PR016\n",
      "PR016\n",
      "PR016\n",
      "PR015\n",
      "PR015\n",
      "PR015\n",
      "PR015\n",
      "PR015\n",
      "PR015\n",
      "VZ031\n",
      "VZ031\n",
      "VZ031\n",
      "VZ031\n",
      "VZ031\n",
      "VZ031\n",
      "VZ032\n",
      "VZ032\n",
      "VZ032\n",
      "VZ032\n",
      "VZ032\n",
      "VZ032\n",
      "VZ036\n",
      "VZ036\n",
      "VZ036\n",
      "VZ036\n",
      "VZ036\n",
      "VZ036\n",
      "VZ034\n",
      "VZ034\n",
      "VZ034\n",
      "VZ034\n",
      "VZ034\n",
      "VZ034\n",
      "VZ035\n",
      "VZ035\n",
      "VZ035\n",
      "VZ035\n",
      "VZ035\n",
      "VZ035\n",
      "PR024\n",
      "PR024\n",
      "PR024\n",
      "PR024\n",
      "PR024\n",
      "PR024\n",
      "PR022\n",
      "PR022\n",
      "PR022\n",
      "PR022\n",
      "PR022\n",
      "PR022\n",
      "PR021\n",
      "PR021\n",
      "PR021\n",
      "PR021\n",
      "PR021\n",
      "PR021\n",
      "PR025\n",
      "PR025\n",
      "PR025\n",
      "PR025\n",
      "PR025\n",
      "PR025\n",
      "PR023\n",
      "PR023\n",
      "PR023\n",
      "PR023\n",
      "PR023\n",
      "PR023\n",
      "PR026\n",
      "PR026\n",
      "PR026\n",
      "PR026\n",
      "PR026\n",
      "PR026\n",
      "VZ011\n",
      "VZ011\n",
      "VZ011\n",
      "VZ011\n",
      "VZ011\n",
      "VZ011\n",
      "VZ012\n",
      "VZ012\n",
      "VZ012\n",
      "VZ012\n",
      "VZ012\n",
      "VZ012\n",
      "VZ015\n",
      "VZ015\n",
      "VZ015\n",
      "VZ015\n",
      "VZ015\n",
      "VZ015\n",
      "VZ013\n",
      "VZ013\n",
      "VZ013\n",
      "VZ013\n",
      "VZ013\n",
      "VZ013\n",
      "VZ016\n",
      "VZ016\n",
      "VZ016\n",
      "VZ016\n",
      "VZ016\n",
      "VZ016\n",
      "VZ025\n",
      "VZ025\n",
      "VZ025\n",
      "VZ025\n",
      "VZ025\n",
      "VZ025\n",
      "VZ014\n",
      "VZ014\n",
      "VZ014\n",
      "VZ014\n",
      "VZ014\n",
      "VZ014\n",
      "VZ021\n",
      "VZ021\n",
      "VZ021\n",
      "VZ021\n",
      "VZ021\n",
      "VZ021\n",
      "VZ023\n",
      "VZ023\n",
      "VZ023\n",
      "VZ023\n",
      "VZ023\n",
      "VZ023\n",
      "VZ022\n",
      "VZ022\n",
      "VZ022\n",
      "VZ022\n",
      "VZ022\n",
      "VZ022\n",
      "VZ024\n",
      "VZ024\n",
      "VZ024\n",
      "VZ024\n",
      "VZ024\n",
      "VZ024\n",
      "VZ026\n",
      "VZ026\n",
      "VZ026\n",
      "VZ026\n",
      "VZ026\n",
      "VZ026\n",
      "MB021\n",
      "MB021\n",
      "MB021\n",
      "MB021\n",
      "MB021\n",
      "MB021\n",
      "MB022\n",
      "MB022\n",
      "MB022\n",
      "MB022\n",
      "MB022\n",
      "MB022\n",
      "MB023\n",
      "MB023\n",
      "MB023\n",
      "MB023\n",
      "MB023\n",
      "MB023\n",
      "MB026\n",
      "MB026\n",
      "MB026\n",
      "MB026\n",
      "MB026\n",
      "MB026\n",
      "MB025\n",
      "MB025\n",
      "MB025\n",
      "MB025\n",
      "MB025\n",
      "MB025\n",
      "MB024\n",
      "MB024\n",
      "MB024\n",
      "MB024\n",
      "MB024\n",
      "MB024\n",
      "MB031\n",
      "MB031\n",
      "MB031\n",
      "MB031\n",
      "MB031\n",
      "MB031\n",
      "MB032\n",
      "MB032\n",
      "MB032\n",
      "MB032\n",
      "MB032\n",
      "MB032\n",
      "MB036\n",
      "MB036\n",
      "MB036\n",
      "MB036\n",
      "MB036\n",
      "MB036\n",
      "MB034\n",
      "MB034\n",
      "MB034\n",
      "MB034\n",
      "MB034\n",
      "MB034\n",
      "MB033\n",
      "MB033\n",
      "MB033\n",
      "MB033\n",
      "MB033\n",
      "MB033\n",
      "MB035\n",
      "MB035\n",
      "MB035\n",
      "MB035\n",
      "MB035\n",
      "MB035\n",
      "MB013\n",
      "MB013\n",
      "MB013\n",
      "MB013\n",
      "MB013\n",
      "MB013\n",
      "MB012\n",
      "MB012\n",
      "MB012\n",
      "MB012\n",
      "MB012\n",
      "MB012\n",
      "MB014\n",
      "MB014\n",
      "MB014\n",
      "MB014\n",
      "MB014\n",
      "MB014\n",
      "MB016\n",
      "MB016\n",
      "MB016\n",
      "MB016\n",
      "MB016\n",
      "MB016\n"
     ]
    }
   ],
   "source": [
    "for i in range(len(ndvi)):\n",
    "    #print(ndvi[i])\n",
    "    for j in range (len(ndvi[i])):\n",
    "        print(ndvi[i][\"id\"])\n",
    "        val = ndvi[i][\"uncorrected_ndvi\"]\n",
    "        newval=reg.predict((np.array(val)).reshape(1,-1))\n",
    "        ndvi[i][\"corrected_ndvi\"]=newval\n",
    "    "
   ]
  },
  {
   "cell_type": "code",
   "execution_count": 44,
   "metadata": {},
   "outputs": [],
   "source": [
    "import pandas as pd\n",
    "data=pd.DataFrame(ndvi)"
   ]
  },
  {
   "cell_type": "code",
   "execution_count": 46,
   "metadata": {},
   "outputs": [],
   "source": [
    "data.to_excel(\"ndvi_all_sampling_zones_ai4eu.xlsx\") "
   ]
  },
  {
   "cell_type": "code",
   "execution_count": null,
   "metadata": {},
   "outputs": [],
   "source": []
  }
 ],
 "metadata": {
  "kernelspec": {
   "display_name": "Python 3",
   "language": "python",
   "name": "python3"
  },
  "language_info": {
   "codemirror_mode": {
    "name": "ipython",
    "version": 3
   },
   "file_extension": ".py",
   "mimetype": "text/x-python",
   "name": "python",
   "nbconvert_exporter": "python",
   "pygments_lexer": "ipython3",
   "version": "3.8.1"
  }
 },
 "nbformat": 4,
 "nbformat_minor": 4
}
